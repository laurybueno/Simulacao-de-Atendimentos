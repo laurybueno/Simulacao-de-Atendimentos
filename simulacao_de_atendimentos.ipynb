{
 "cells": [
  {
   "cell_type": "code",
   "execution_count": 1,
   "metadata": {
    "collapsed": true
   },
   "outputs": [],
   "source": [
    "from random import random, expovariate\n",
    "from matplotlib import pyplot as plt\n",
    "from statistics import mean\n",
    "from scipy.stats import bernoulli"
   ]
  },
  {
   "cell_type": "code",
   "execution_count": 2,
   "metadata": {
    "collapsed": true
   },
   "outputs": [],
   "source": [
    "n = 6  # número de guichês\n",
    "lamb = 3  # taxa de entrada de clientes\n",
    "mi = .5  # taxa de atendimentos a clientes por cada guichê\n",
    "t = 50  # intervalo de tempo total sobre o qual se deseja calcular as médias de aceitações e rejeições\n",
    "rodadas = 20000  # número de iterações da simulação"
   ]
  },
  {
   "cell_type": "code",
   "execution_count": 3,
   "metadata": {
    "collapsed": true
   },
   "outputs": [],
   "source": [
    "class Cliente:\n",
    "    \n",
    "    tempo_atendimento = -1\n",
    "    \n",
    "    def __init__(self, momento_chegada):\n",
    "        self.momento_chegada = momento_chegada\n",
    "    \n",
    "    def vai_desistir(self, tam_fila):\n",
    "        if (tam_fila / (tam_fila + n)) > random():\n",
    "            return True\n",
    "        return False"
   ]
  },
  {
   "cell_type": "code",
   "execution_count": 11,
   "metadata": {},
   "outputs": [],
   "source": [
    "def rodada():\n",
    "    gt = [0] * n  # instante em que cada guichê estará disponível\n",
    "    k = 0  # contador de clientes que entraram na fila até o momento\n",
    "    ct = []  # vetor de tamanho variável em que ctcheg[k] > 0 denota o instante em que o k-ésimo cliente chegou\n",
    "    x = 0  # contador de clientes já atendidos\n",
    "    y = 0  # contador de clientes que foram embora sem entrar na fila;\n",
    "    r = 0  # comprimento atual da fila\n",
    "    tm = 0  # tempo máximo de permanência dentre todos os clientes atendidos até o momento\n",
    "  \n",
    "    # encontre o momento de chegada do primeiro cliente\n",
    "    momento = expovariate(lamb)  # instante atual\n",
    "    while momento < t:\n",
    "        # Contabilize a chegada deste cliente \n",
    "        k += 1\n",
    "        ct.append(momento)\n",
    "        \n",
    "        # Processe quais clientes foram atendidos deste a última iteração do loop principal\n",
    "        while min(gt) < momento and x < k:\n",
    "            x += 1\n",
    "            j = gt.index(min(gt))\n",
    "            a = expovariate(mi)\n",
    "            gt[j] = max(gt[j], ct[x-1]) + a\n",
    "            tm = max(tm, (gt[j] - ct[x-1]))\n",
    "        \n",
    "        r = max(0, ((k - 1) - x))  # não considere o último cliente\n",
    "        \n",
    "        # Decida se o cliente atual vai ficar na fila\n",
    "        pr = r/(r + n)\n",
    "        if(bernoulli.rvs(pr)) == 1:\n",
    "            k = k - 1\n",
    "            y = y + 1\n",
    "        \n",
    "        r = k - x\n",
    "        w = y/(x + y + r)\n",
    "        \n",
    "        # Encontre o momento de chegada do próximo cliente\n",
    "        momento += expovariate(lamb)\n",
    "        \n",
    "    return {\n",
    "        'x': x,\n",
    "        'y': y,\n",
    "        'r': r,\n",
    "        'w': w,\n",
    "        'tm':tm\n",
    "    }"
   ]
  },
  {
   "cell_type": "code",
   "execution_count": 12,
   "metadata": {},
   "outputs": [],
   "source": [
    "iteracoes = []\n",
    "for i in range(rodadas):\n",
    "    iteracoes.append(rodada())"
   ]
  },
  {
   "cell_type": "markdown",
   "metadata": {},
   "source": [
    "# Qual o número esperado de clientes atendidos até o instante T?"
   ]
  },
  {
   "cell_type": "code",
   "execution_count": 14,
   "metadata": {},
   "outputs": [
    {
     "data": {
      "image/png": "[encoded data removed]",
      "text/plain": [
       "<matplotlib.figure.Figure at 0x7f7e7819c9e8>"
      ]
     },
     "metadata": {},
     "output_type": "display_data"
    }
   ],
   "source": [
    "plt.hist([i['x'] for i in iteracoes])\n",
    "plt.show()"
   ]
  },
  {
   "cell_type": "markdown",
   "metadata": {},
   "source": [
    "# Qual o número esperado de clientes que foram embora até o instante T?"
   ]
  },
  {
   "cell_type": "code",
   "execution_count": 15,
   "metadata": {
    "scrolled": true
   },
   "outputs": [
    {
     "data": {
      "image/png": "[encoded data removed]",
      "text/plain": [
       "<matplotlib.figure.Figure at 0x7f7e75aa8dd8>"
      ]
     },
     "metadata": {},
     "output_type": "display_data"
    }
   ],
   "source": [
    "plt.hist([i['y'] for i in iteracoes])\n",
    "plt.show()"
   ]
  },
  {
   "cell_type": "markdown",
   "metadata": {},
   "source": [
    "# Qual a proporção de clientes que foram embora?"
   ]
  },
  {
   "cell_type": "code",
   "execution_count": 16,
   "metadata": {},
   "outputs": [
    {
     "data": {
      "image/png": "[encoded data removed]",
      "text/plain": [
       "<matplotlib.figure.Figure at 0x7f7e75a3fa58>"
      ]
     },
     "metadata": {},
     "output_type": "display_data"
    }
   ],
   "source": [
    "plt.hist([i['w'] for i in iteracoes])\n",
    "plt.show()"
   ]
  },
  {
   "cell_type": "markdown",
   "metadata": {},
   "source": [
    "# Qual o comprimento esperado da fila no instante T?"
   ]
  },
  {
   "cell_type": "code",
   "execution_count": null,
   "metadata": {},
   "outputs": [],
   "source": [
    "# mean([len(i['r']) for i in iteracoes])"
   ]
  },
  {
   "cell_type": "markdown",
   "metadata": {},
   "source": [
    "## Comprimento final da fila em cada iteração"
   ]
  },
  {
   "cell_type": "code",
   "execution_count": 17,
   "metadata": {
    "scrolled": true
   },
   "outputs": [
    {
     "data": {
      "image/png": "[encoded data removed]",
      "text/plain": [
       "<matplotlib.figure.Figure at 0x7f7e759299b0>"
      ]
     },
     "metadata": {},
     "output_type": "display_data"
    }
   ],
   "source": [
    "plt.plot([i['r'] for i in iteracoes])\n",
    "plt.show()"
   ]
  },
  {
   "cell_type": "markdown",
   "metadata": {},
   "source": [
    "# Considerando apenas os clientes que foram efetivamente atendidos, qual o valor esperado do tempo máximo de permanência dos clientes desde sua chegada até o término de seu atendimento?"
   ]
  },
  {
   "cell_type": "code",
   "execution_count": 18,
   "metadata": {},
   "outputs": [
    {
     "data": {
      "image/png": "[encoded data removed]",
      "text/plain": [
       "<matplotlib.figure.Figure at 0x7f7e75b8deb8>"
      ]
     },
     "metadata": {},
     "output_type": "display_data"
    }
   ],
   "source": [
    "plt.hist([i['tm'] for i in iteracoes])\n",
    "plt.show()"
   ]
  }
 ],
 "metadata": {
  "kernelspec": {
   "display_name": "Python 3",
   "language": "python",
   "name": "python3"
  },
  "language_info": {
   "codemirror_mode": {
    "name": "ipython",
    "version": 3
   },
   "file_extension": ".py",
   "mimetype": "text/x-python",
   "name": "python",
   "nbconvert_exporter": "python",
   "pygments_lexer": "ipython3",
   "version": "3.6.1"
  }
 },
 "nbformat": 4,
 "nbformat_minor": 2
}
