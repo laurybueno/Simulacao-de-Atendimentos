{
 "cells": [
  {
   "cell_type": "code",
   "execution_count": 1,
   "metadata": {
    "collapsed": true
   },
   "outputs": [],
   "source": [
    "from random import random, expovariate\n",
    "from matplotlib import pyplot as plt"
   ]
  },
  {
   "cell_type": "code",
   "execution_count": 2,
   "metadata": {
    "collapsed": true
   },
   "outputs": [],
   "source": [
    "n = 1  # número de guichês\n",
    "lamb = 0.2  # taxa de entrada de clientes\n",
    "mi = 10  # taxa de atendimentos a clientes por cada guichê\n",
    "t = 1000  # intervalo de tempo total sobre o qual se deseja calcular as médias de aceitações e rejeições\n",
    "th = 10  # tempo que cada guichê demora para atender um cliente\n",
    "rodadas = 1000  # número de iterações da simulação"
   ]
  },
  {
   "cell_type": "code",
   "execution_count": 3,
   "metadata": {
    "collapsed": true
   },
   "outputs": [],
   "source": [
    "class Cliente:\n",
    "    \n",
    "    tempo_atendimento = -1\n",
    "    \n",
    "    def __init__(self, momento_chegada):\n",
    "        self.momento_chegada = momento_chegada\n",
    "    \n",
    "    def vai_desistir(self, tam_fila):\n",
    "        if (tam_fila / (tam_fila + n)) > random():\n",
    "            return True\n",
    "        return False"
   ]
  },
  {
   "cell_type": "code",
   "execution_count": 4,
   "metadata": {
    "collapsed": true
   },
   "outputs": [],
   "source": [
    "def momentos_chegada(tempo_total, lamb):\n",
    "    momentos = set()\n",
    "    for i in range(tempo_total):\n",
    "        momentos.add(int(expovariate(lamb)))\n",
    "    return sorted(momentos)"
   ]
  },
  {
   "cell_type": "code",
   "execution_count": 5,
   "metadata": {},
   "outputs": [],
   "source": [
    "def rodada():\n",
    "    fila = []\n",
    "    guiches_ocupados = []\n",
    "    atendidos = []\n",
    "    rejeicoes = 0\n",
    "    chegadas = momentos_chegada(t, lamb)\n",
    "    for momento in range(t):\n",
    "        \n",
    "        # Libere guichês que ficaram vazios desde a última iteração\n",
    "        for guiche in guiches_ocupados:\n",
    "            if guiche.tempo_atendimento == momento:\n",
    "                # Se o guichê foi liberado, aumente o contador de clientes atendidos\n",
    "                guiches_ocupados.remove(guiche)\n",
    "                atendidos.append(guiche)\n",
    "        \n",
    "        # Se há clientes na fila, coloque-os em guichês livres (se houver algum)\n",
    "        for cliente in fila:\n",
    "            if len(guiches_ocupados) < n:\n",
    "                # Aponte um guichê para esse cliente\n",
    "                # TODO: estabeleça o tempo correto de atendimento\n",
    "                cliente.tempo_atendimento = momento + th\n",
    "                guiches_ocupados.append(cliente)\n",
    "                \n",
    "        # Descubra se um cliente chegou agora\n",
    "        if momento in chegadas:\n",
    "            cliente = Cliente(momento)\n",
    "            # Calcule se o cliente irá permanecer na loja\n",
    "            if cliente.vai_desistir(len(fila)):\n",
    "                # Se não for, aumente o contador de rejeições\n",
    "                rejeicoes += 1\n",
    "            else:\n",
    "                # Se ele for o único na fila, veja se ele pode ser atendido agora\n",
    "                if(len(guiches_ocupados) < n):\n",
    "                    # TODO: estabeleça o tempo correto de atendimento\n",
    "                    cliente.tempo_atendimento = momento + th\n",
    "                    guiches_ocupados.append(cliente)\n",
    "                else:\n",
    "                    # Se não houver, coloque-o na fila\n",
    "                    fila.append(cliente)\n",
    "\n",
    "    return {\n",
    "        'fila': fila,\n",
    "        'giches_ocupados': guiches_ocupados,\n",
    "        'atendidos': atendidos,\n",
    "        'rejeicoes': rejeicoes\n",
    "    }"
   ]
  },
  {
   "cell_type": "code",
   "execution_count": 6,
   "metadata": {},
   "outputs": [],
   "source": [
    "iteracoes = []\n",
    "for i in range(rodadas):\n",
    "    iteracoes.append(rodada())"
   ]
  }
 ],
 "metadata": {
  "kernelspec": {
   "display_name": "Python 3",
   "language": "python",
   "name": "python3"
  },
  "language_info": {
   "codemirror_mode": {
    "name": "ipython",
    "version": 3
   },
   "file_extension": ".py",
   "mimetype": "text/x-python",
   "name": "python",
   "nbconvert_exporter": "python",
   "pygments_lexer": "ipython3",
   "version": "3.6.1"
  }
 },
 "nbformat": 4,
 "nbformat_minor": 2
}
