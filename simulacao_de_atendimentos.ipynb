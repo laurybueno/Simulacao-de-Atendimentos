{
 "cells": [
  {
   "cell_type": "code",
   "execution_count": 1,
   "metadata": {
    "collapsed": true
   },
   "outputs": [],
   "source": [
    "from random import random, expovariate\n",
    "from matplotlib import pyplot as plt\n",
    "from statistics import mean"
   ]
  },
  {
   "cell_type": "code",
   "execution_count": 2,
   "metadata": {
    "collapsed": true
   },
   "outputs": [],
   "source": [
    "n = 6  # número de guichês\n",
    "lamb = 2  # taxa de entrada de clientes\n",
    "mi = 2  # taxa de atendimentos a clientes por cada guichê\n",
    "t = 50  # intervalo de tempo total sobre o qual se deseja calcular as médias de aceitações e rejeições\n",
    "rodadas = 1000  # número de iterações da simulação"
   ]
  },
  {
   "cell_type": "code",
   "execution_count": 3,
   "metadata": {
    "collapsed": true
   },
   "outputs": [],
   "source": [
    "class Cliente:\n",
    "    \n",
    "    tempo_atendimento = -1\n",
    "    \n",
    "    def __init__(self, momento_chegada):\n",
    "        self.momento_chegada = momento_chegada\n",
    "    \n",
    "    def vai_desistir(self, tam_fila):\n",
    "        if (tam_fila / (tam_fila + n)) > random():\n",
    "            return True\n",
    "        return False"
   ]
  },
  {
   "cell_type": "code",
   "execution_count": 4,
   "metadata": {
    "collapsed": true
   },
   "outputs": [],
   "source": [
    "def momentos_chegada(tempo_total, lamb):\n",
    "    momentos = set()  # garante que não haverão números repetidos\n",
    "    for i in range(tempo_total):\n",
    "        momentos.add(int(expovariate(lamb)))\n",
    "    return sorted(momentos)"
   ]
  },
  {
   "cell_type": "code",
   "execution_count": 5,
   "metadata": {},
   "outputs": [],
   "source": [
    "def rodada():\n",
    "    fila = []\n",
    "    guiches_ocupados = []\n",
    "    atendidos = []\n",
    "    rejeicoes = 0\n",
    "    chegadas = momentos_chegada(t, lamb)\n",
    "    for momento in range(t):\n",
    "        \n",
    "        # Libere guichês que ficaram vazios desde a última iteração\n",
    "        for guiche in guiches_ocupados:\n",
    "            if guiche.tempo_atendimento <= momento:\n",
    "                # Se o guichê foi liberado, aumente o contador de clientes atendidos\n",
    "                guiches_ocupados.remove(guiche)\n",
    "                atendidos.append(guiche)\n",
    "        \n",
    "        # Se há clientes na fila, coloque-os em guichês livres (se houver algum)\n",
    "        for cliente in fila:\n",
    "            if len(guiches_ocupados) < n:\n",
    "                # Aponte um guichê para esse cliente\n",
    "                cliente.tempo_atendimento = momento + int(expovariate(mi))\n",
    "                guiches_ocupados.append(cliente)\n",
    "                \n",
    "        # Descubra se um cliente chegou agora\n",
    "        if momento in chegadas:\n",
    "            cliente = Cliente(momento)\n",
    "            # Calcule se o cliente irá permanecer na loja\n",
    "            if cliente.vai_desistir(len(fila)):\n",
    "                # Se não for, aumente o contador de rejeições\n",
    "                rejeicoes += 1\n",
    "            else:\n",
    "                # Se ele for o único na fila, veja se ele pode ser atendido agora\n",
    "                if(len(guiches_ocupados) < n):\n",
    "                    # TODO: estabeleça o tempo correto de atendimento\n",
    "                    cliente.tempo_atendimento = momento + int(expovariate(mi))\n",
    "                    guiches_ocupados.append(cliente)\n",
    "                else:\n",
    "                    # Se não houver, coloque-o na fila\n",
    "                    fila.append(cliente)\n",
    "\n",
    "    return {\n",
    "        'fila': fila,\n",
    "        'giches_ocupados': guiches_ocupados,\n",
    "        'atendidos': atendidos,\n",
    "        'rejeicoes': rejeicoes\n",
    "    }"
   ]
  },
  {
   "cell_type": "code",
   "execution_count": 6,
   "metadata": {},
   "outputs": [],
   "source": [
    "iteracoes = []\n",
    "for i in range(rodadas):\n",
    "    iteracoes.append(rodada())"
   ]
  },
  {
   "cell_type": "markdown",
   "metadata": {},
   "source": [
    "# Qual o número esperado de clientes atendidos até o instante T?"
   ]
  },
  {
   "cell_type": "code",
   "execution_count": 7,
   "metadata": {},
   "outputs": [
    {
     "data": {
      "image/png": "[encoded data removed]",
      "text/plain": [
       "<matplotlib.figure.Figure at 0x7f651bce39b0>"
      ]
     },
     "metadata": {},
     "output_type": "display_data"
    }
   ],
   "source": [
    "plt.hist([len(i['atendidos']) for i in iteracoes])\n",
    "plt.show()"
   ]
  },
  {
   "cell_type": "markdown",
   "metadata": {},
   "source": [
    "# Qual o número esperado de clientes que foram embora até o instante T?"
   ]
  },
  {
   "cell_type": "code",
   "execution_count": 8,
   "metadata": {
    "scrolled": true
   },
   "outputs": [
    {
     "data": {
      "image/png": "[encoded data removed]",
      "text/plain": [
       "<matplotlib.figure.Figure at 0x7f6519c39cc0>"
      ]
     },
     "metadata": {},
     "output_type": "display_data"
    }
   ],
   "source": [
    "plt.hist([i['rejeicoes'] for i in iteracoes])\n",
    "plt.show()"
   ]
  },
  {
   "cell_type": "markdown",
   "metadata": {},
   "source": [
    "# Qual a proporção de clientes que foram embora?"
   ]
  },
  {
   "cell_type": "code",
   "execution_count": 9,
   "metadata": {},
   "outputs": [
    {
     "data": {
      "text/plain": [
       "0.0"
      ]
     },
     "execution_count": 9,
     "metadata": {},
     "output_type": "execute_result"
    }
   ],
   "source": [
    "media_rejeicoes = mean([i['rejeicoes'] for i in iteracoes])\n",
    "media_atendimentos = mean([len(i['atendidos']) for i in iteracoes])\n",
    "media_fila = mean([len(i['fila']) for i in iteracoes])\n",
    "\n",
    "media_rejeicoes / (media_atendimentos + media_rejeicoes + media_fila)"
   ]
  },
  {
   "cell_type": "markdown",
   "metadata": {},
   "source": [
    "# Qual o comprimento esperado da fila no instante T?"
   ]
  },
  {
   "cell_type": "code",
   "execution_count": 10,
   "metadata": {},
   "outputs": [
    {
     "data": {
      "text/plain": [
       "0"
      ]
     },
     "execution_count": 10,
     "metadata": {},
     "output_type": "execute_result"
    }
   ],
   "source": [
    "mean([len(i['fila']) for i in iteracoes])"
   ]
  },
  {
   "cell_type": "markdown",
   "metadata": {},
   "source": [
    "## Comprimento final da fila em cada iteração"
   ]
  },
  {
   "cell_type": "code",
   "execution_count": 11,
   "metadata": {
    "scrolled": true
   },
   "outputs": [
    {
     "data": {
      "image/png": "[encoded data removed]",
      "text/plain": [
       "<matplotlib.figure.Figure at 0x7f651be0e358>"
      ]
     },
     "metadata": {},
     "output_type": "display_data"
    }
   ],
   "source": [
    "plt.plot([len(i['fila']) for i in iteracoes])\n",
    "plt.show()"
   ]
  },
  {
   "cell_type": "markdown",
   "metadata": {},
   "source": [
    "# Considerando apenas os clientes que foram efetivamente atendidos, qual o valor esperado do tempo máximo de permanência dos clientes desde sua chegada até o término de seu atendimento?"
   ]
  },
  {
   "cell_type": "code",
   "execution_count": 12,
   "metadata": {},
   "outputs": [
    {
     "data": {
      "text/plain": [
       "0.37"
      ]
     },
     "execution_count": 12,
     "metadata": {},
     "output_type": "execute_result"
    }
   ],
   "source": [
    "tempos_maximos = []\n",
    "for i in iteracoes:\n",
    "    tempos_atendimento = []\n",
    "    for c in i['atendidos']:\n",
    "        tempos_atendimento.append(c.tempo_atendimento - c.momento_chegada)\n",
    "    tempos_maximos.append(max(tempos_atendimento))\n",
    "mean(tempos_maximos)"
   ]
  }
 ],
 "metadata": {
  "kernelspec": {
   "display_name": "Python 3",
   "language": "python",
   "name": "python3"
  },
  "language_info": {
   "codemirror_mode": {
    "name": "ipython",
    "version": 3
   },
   "file_extension": ".py",
   "mimetype": "text/x-python",
   "name": "python",
   "nbconvert_exporter": "python",
   "pygments_lexer": "ipython3",
   "version": "3.6.1"
  }
 },
 "nbformat": 4,
 "nbformat_minor": 2
}
