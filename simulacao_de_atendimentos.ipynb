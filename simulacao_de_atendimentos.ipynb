{
 "cells": [
  {
   "cell_type": "code",
   "execution_count": 18,
   "metadata": {
    "collapsed": true
   },
   "outputs": [],
   "source": [
    "n = 10  # número de guichês\n",
    "lamb = 0.2  # taxa de entrada de clientes\n",
    "mi = 10  # taxa de atendimentos a clientes por cada guichê\n",
    "t = 1000  # intervalo de tempo total sobre o qual se deseja calcular as médias de aceitações e rejeições\n",
    "th = 10  # tempo que cada guichê demora para atender um cliente\n",
    "iteracoes = 1  # número de iterações da simulação"
   ]
  },
  {
   "cell_type": "code",
   "execution_count": 33,
   "metadata": {
    "collapsed": true
   },
   "outputs": [],
   "source": [
    "from math import exp\n",
    "from random import random, expovariate\n",
    "from matplotlib import pyplot as plt\n",
    "\n",
    "def momentos_chegada(tempo_total, lamb):\n",
    "    \n",
    "    for momento in range(0, tempo_total):\n",
    "        yield random.expovariate(lamb)"
   ]
  },
  {
   "cell_type": "code",
   "execution_count": 12,
   "metadata": {
    "collapsed": true
   },
   "outputs": [],
   "source": [
    "class Cliente:\n",
    "    \n",
    "    def __init__(self, momento_chegada):\n",
    "        self.momento_chegada = momento_chegada\n",
    "    \n",
    "    def vai_desistir(self):\n",
    "        if (len(fila) / (len(fila) + n)) > random():\n",
    "            return True\n",
    "        return False\n",
    "    \n",
    "    def atendido(self, momento):\n",
    "        self.atendimento = momento"
   ]
  },
  {
   "cell_type": "code",
   "execution_count": null,
   "metadata": {},
   "outputs": [],
   "source": [
    "fila = []\n",
    "guiches_ocupados = []\n",
    "atendidos = []\n",
    "rejeicoes = 0\n",
    "for chegada in momentos_chegada(t, lamb):\n",
    "    cliente = Cliente(chegada)\n",
    "    # Calcule se o cliente irá permanecer na loja\n",
    "    if cliente.vai_desistir():\n",
    "        # Se não for, aumente o contador de rejeições e passe para a próxima iteração do loop\n",
    "        rejeicoes += 1\n",
    "        continue\n",
    "    \n",
    "    # Libere guichês que ficaram vazios desde a última iteração\n",
    "    for guiche in guiches_ocupados:\n",
    "        if (guiche.momento_chegada + th) < chegada:\n",
    "        # Se guichês foram liberados, aumente o contador de clientes atendidos\n",
    "            guiches_ocupados.remove(guiche)\n",
    "            guiche.atendido(guiche.momento_chegada + th)\n",
    "            atendidos.append(guiche)\n",
    "    \n",
    "    # Se há um guichê livre, aponte-o para o cliente\n",
    "    if(len(guiches_ocupados) < n):\n",
    "        guiches_ocupados.append(cliente)\n",
    "    else:\n",
    "        # Se não houver, coloque-o na fila\n",
    "        fila.append(cliente)\n",
    "\n",
    "iteracao = {\n",
    "    'fila': fila,\n",
    "    'giches_ocupados': guiches_ocupados,\n",
    "    'atendidos': atendidos,\n",
    "    'rejeicoes': rejeicoes\n",
    "}"
   ]
  }
 ],
 "metadata": {
  "kernelspec": {
   "display_name": "Python 3",
   "language": "python",
   "name": "python3"
  },
  "language_info": {
   "codemirror_mode": {
    "name": "ipython",
    "version": 3
   },
   "file_extension": ".py",
   "mimetype": "text/x-python",
   "name": "python",
   "nbconvert_exporter": "python",
   "pygments_lexer": "ipython3",
   "version": "3.6.1"
  }
 },
 "nbformat": 4,
 "nbformat_minor": 2
}
