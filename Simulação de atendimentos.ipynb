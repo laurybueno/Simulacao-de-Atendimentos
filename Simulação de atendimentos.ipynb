{
 "cells": [
  {
   "cell_type": "markdown",
   "metadata": {},
   "source": [
    "# Relatório do Exercício Programa 3 - Simulação de Atendimento com Clientes Impacientes \n",
    "\n",
    "Bruno Impossinato Murozaki - 8516476\n",
    "\n",
    "Laury Bueno - 5648179\n",
    "\n",
    "\n",
    "## Introdução\n",
    "O problema estudado propõe a seguinte situação: clientes são atendidos sequencialmente por uma série de guichês e têm a opção de esperar (ou não) em uma fila caso todos estejam ocupados. A chegada de clientes é guiada por uma distribuição exponencial e a decisão de esperar ou não na fila depende de uma distribuição de Bernoulli.\n",
    "\n",
    "## Especificações técnicas\n",
    "Este trabalho foi escrito e documentado na plataforma [Jupyter Notebook](http://jupyter.org/) 5.0.0 e executado com o interpretador Pyhton 3.6.1.\n",
    "\n",
    "Tanto o PDF quanto o arquivo `.py` disponibilizados por esta entrega foram gerados nesse contexto.\n",
    "\n",
    "Para ter uma melhor viisualização deste relatório, recomenda-se a leitura no formato original, que está disponível [neste link](https://github.com/laurybueno/Simulacao-de-Atendimentos/blob/master/simulacao_de_atendimentos.ipynb).\n",
    "\n",
    "Este software depende dos pacotes Matplotlib e Scipy.\n",
    "\n",
    "### Execução\n",
    "O programa não tem sua execução customizável por linha de comando (já que isso não é um requisito) e carrega as variáveis especificadas no enunciado deste exercício em seu próprio código."
   ]
  },
  {
   "cell_type": "markdown",
   "metadata": {},
   "source": [
    "# Resolução em Python"
   ]
  },
  {
   "cell_type": "markdown",
   "metadata": {},
   "source": [
    "### Dependências e bibliotecas necessárias para a execução"
   ]
  },
  {
   "cell_type": "code",
   "execution_count": 9,
   "metadata": {
    "collapsed": true
   },
   "outputs": [],
   "source": [
    "from random import random, expovariate\n",
    "from matplotlib import pyplot as plt\n",
    "from statistics import mean\n",
    "from scipy.stats import bernoulli"
   ]
  },
  {
   "cell_type": "markdown",
   "metadata": {},
   "source": [
    "### O método `rodada` é responsável por realizar uma simulação de atendimento de clientes. A configuração das condições da simulação é feita por variáveis globais que devem ser especificadas antes da chamada"
   ]
  },
  {
   "cell_type": "code",
   "execution_count": 10,
   "metadata": {
    "collapsed": true
   },
   "outputs": [],
   "source": [
    "def rodada():\n",
    "    gt = [0] * n  # instante em que cada guichê estará disponível\n",
    "    k = 0  # contador de clientes que entraram na fila até o momento\n",
    "    ct = []  # vetor de tamanho variável em que ctcheg[k] > 0 denota o instante em que o k-ésimo cliente chegou\n",
    "    x = 0  # contador de clientes já atendidos\n",
    "    y = 0  # contador de clientes que foram embora sem entrar na fila;\n",
    "    r = 0  # comprimento atual da fila\n",
    "    tm = 0  # tempo máximo de permanência dentre todos os clientes atendidos até o momento\n",
    "  \n",
    "    # Encontre o momento de chegada do primeiro cliente\n",
    "    momento = expovariate(lamb)  # instante atual\n",
    "    while momento < t:\n",
    "        # Contabilize a chegada deste cliente \n",
    "        k += 1\n",
    "        ct.append(momento)\n",
    "        \n",
    "        # Processe quais clientes foram atendidos deste a última iteração do loop principal\n",
    "        while min(gt) < momento and x < k:\n",
    "            x += 1\n",
    "            j = gt.index(min(gt))\n",
    "            a = expovariate(mi)\n",
    "            gt[j] = max(gt[j], ct[x-1]) + a\n",
    "            tm = max(tm, (gt[j] - ct[x-1]))\n",
    "        \n",
    "        r = max(0, ((k - 1) - x))  # não considere o último cliente\n",
    "        \n",
    "        # Decida se o cliente atual vai ficar na fila\n",
    "        pr = r/(r + n)\n",
    "        if(bernoulli.rvs(pr)) == 1:\n",
    "            k = k - 1\n",
    "            y = y + 1\n",
    "        \n",
    "        r = k - x\n",
    "        w = y/(x + y + r)\n",
    "        \n",
    "        # Encontre o momento de chegada do próximo cliente\n",
    "        momento += expovariate(lamb)\n",
    "        \n",
    "    return {\n",
    "        'x': x,\n",
    "        'y': y,\n",
    "        'r': r,\n",
    "        'w': w,\n",
    "        'tm':tm\n",
    "    }"
   ]
  },
  {
   "cell_type": "markdown",
   "metadata": {},
   "source": [
    "### Dados da primeira simulação pedida ficarão armazenados na lista `iteracoes1`\n",
    "Parâmetros usaados: n = 6, λ = 3, µ = 0.5"
   ]
  },
  {
   "cell_type": "code",
   "execution_count": 3,
   "metadata": {
    "collapsed": true
   },
   "outputs": [],
   "source": [
    "n = 6  # número de guichês\n",
    "lamb = 3  # taxa de entrada de clientes\n",
    "mi = .5  # taxa de atendimentos a clientes por cada guichê\n",
    "t = 50  # intervalo de tempo total sobre o qual se deseja calcular as médias de aceitações e rejeições\n",
    "rodadas = 20000  # número de iterações da simulação\n",
    "\n",
    "iteracoes1 = []\n",
    "for i in range(rodadas):\n",
    "    iteracoes1.append(rodada())"
   ]
  },
  {
   "cell_type": "markdown",
   "metadata": {},
   "source": [
    "### Dados da segunda simulação pedida ficarão armazenados na lista `iteracoes2`\n",
    "\n",
    "Parâmetros usaados: n = 5, λ = 3, µ = 0.5"
   ]
  },
  {
   "cell_type": "code",
   "execution_count": 4,
   "metadata": {
    "collapsed": true
   },
   "outputs": [],
   "source": [
    "n = 5  # número de guichês\n",
    "lamb = 3  # taxa de entrada de clientes\n",
    "mi = .5  # taxa de atendimentos a clientes por cada guichê\n",
    "t = 50  # intervalo de tempo total sobre o qual se deseja calcular as médias de aceitações e rejeições\n",
    "rodadas = 20000  # número de iterações da simulação\n",
    "\n",
    "iteracoes2 = []\n",
    "for i in range(rodadas):\n",
    "    iteracoes2.append(rodada())"
   ]
  },
  {
   "cell_type": "markdown",
   "metadata": {},
   "source": [
    "# Análise gráfica das simulações "
   ]
  },
  {
   "cell_type": "markdown",
   "metadata": {},
   "source": [
    "### Quantos clientes foram atendidos?\n",
    "Com mais guichês disponíveis, mais clientes são atendidos com maior frequência. "
   ]
  },
  {
   "cell_type": "code",
   "execution_count": 5,
   "metadata": {
    "scrolled": true
   },
   "outputs": [
    {
     "data": {
      "image/png": "[encoded data removed]",
      "text/plain": [
       "<matplotlib.figure.Figure at 0x7fcd95b73470>"
      ]
     },
     "metadata": {},
     "output_type": "display_data"
    }
   ],
   "source": [
    "plt.hist([i['x'] for i in iteracoes1])\n",
    "plt.show()"
   ]
  },
  {
   "cell_type": "code",
   "execution_count": 6,
   "metadata": {
    "scrolled": true
   },
   "outputs": [
    {
     "data": {
      "image/png": "[encoded data removed]",
      "text/plain": [
       "<matplotlib.figure.Figure at 0x7fcd95b73390>"
      ]
     },
     "metadata": {},
     "output_type": "display_data"
    }
   ],
   "source": [
    "plt.hist([i['x'] for i in iteracoes2])\n",
    "plt.show()"
   ]
  },
  {
   "cell_type": "markdown",
   "metadata": {},
   "source": [
    "### Qual o número esperado de clientes que foram embora até o instante T?\n",
    "Quando temos menos guichês disponíveis, vemos que a taxa de rejeições aumenta, tendo em vista que o comprimento médio da fila também aumenta."
   ]
  },
  {
   "cell_type": "code",
   "execution_count": 7,
   "metadata": {
    "scrolled": false
   },
   "outputs": [
    {
     "data": {
      "image/png": "[encoded data removed]",
      "text/plain": [
       "<matplotlib.figure.Figure at 0x7fcd92cde9b0>"
      ]
     },
     "metadata": {},
     "output_type": "display_data"
    }
   ],
   "source": [
    "plt.hist([i['y'] for i in iteracoes1])\n",
    "plt.show()"
   ]
  },
  {
   "cell_type": "code",
   "execution_count": 8,
   "metadata": {
    "scrolled": false
   },
   "outputs": [
    {
     "data": {
      "image/png": "[encoded data removed]",
      "text/plain": [
       "<matplotlib.figure.Figure at 0x7fcd92bddb70>"
      ]
     },
     "metadata": {},
     "output_type": "display_data"
    }
   ],
   "source": [
    "plt.hist([i['y'] for i in iteracoes2])\n",
    "plt.show()"
   ]
  },
  {
   "cell_type": "markdown",
   "metadata": {},
   "source": [
    "### Qual a proporção de clientes que foram embora?"
   ]
  },
  {
   "cell_type": "code",
   "execution_count": 9,
   "metadata": {},
   "outputs": [
    {
     "data": {
      "image/png": "[encoded data removed]",
      "text/plain": [
       "<matplotlib.figure.Figure at 0x7fcd92a6dc88>"
      ]
     },
     "metadata": {},
     "output_type": "display_data"
    }
   ],
   "source": [
    "plt.hist([i['w'] for i in iteracoes1])\n",
    "plt.show()"
   ]
  },
  {
   "cell_type": "code",
   "execution_count": 10,
   "metadata": {},
   "outputs": [
    {
     "data": {
      "image/png": "[encoded data removed]",
      "text/plain": [
       "<matplotlib.figure.Figure at 0x7fcd92bd6d68>"
      ]
     },
     "metadata": {},
     "output_type": "display_data"
    }
   ],
   "source": [
    "plt.hist([i['w'] for i in iteracoes2])\n",
    "plt.show()"
   ]
  },
  {
   "cell_type": "markdown",
   "metadata": {},
   "source": [
    "### Comprimento final da fila em cada iteração"
   ]
  },
  {
   "cell_type": "code",
   "execution_count": 11,
   "metadata": {
    "scrolled": true
   },
   "outputs": [
    {
     "data": {
      "image/png": "[encoded data removed]",
      "text/plain": [
       "<matplotlib.figure.Figure at 0x7fcd92c0de10>"
      ]
     },
     "metadata": {},
     "output_type": "display_data"
    }
   ],
   "source": [
    "plt.plot([i['r'] for i in iteracoes1])\n",
    "plt.show()"
   ]
  },
  {
   "cell_type": "code",
   "execution_count": 12,
   "metadata": {
    "scrolled": true
   },
   "outputs": [
    {
     "data": {
      "image/png": "[encoded data removed]",
      "text/plain": [
       "<matplotlib.figure.Figure at 0x7fcd92812ba8>"
      ]
     },
     "metadata": {},
     "output_type": "display_data"
    }
   ],
   "source": [
    "plt.plot([i['r'] for i in iteracoes2])\n",
    "plt.show()"
   ]
  },
  {
   "cell_type": "markdown",
   "metadata": {},
   "source": [
    "### Considerando apenas os clientes que foram efetivamente atendidos, qual o valor esperado do tempo máximo de permanência dos clientes desde sua chegada até o término de seu atendimento?"
   ]
  },
  {
   "cell_type": "code",
   "execution_count": 13,
   "metadata": {},
   "outputs": [
    {
     "data": {
      "image/png": "[encoded data removed]",
      "text/plain": [
       "<matplotlib.figure.Figure at 0x7fcd928b5da0>"
      ]
     },
     "metadata": {},
     "output_type": "display_data"
    }
   ],
   "source": [
    "plt.hist([i['tm'] for i in iteracoes1])\n",
    "plt.show()"
   ]
  },
  {
   "cell_type": "code",
   "execution_count": 14,
   "metadata": {},
   "outputs": [
    {
     "data": {
      "image/png": "[encoded data removed]",
      "text/plain": [
       "<matplotlib.figure.Figure at 0x7fcd92bd64e0>"
      ]
     },
     "metadata": {},
     "output_type": "display_data"
    }
   ],
   "source": [
    "plt.hist([i['tm'] for i in iteracoes2])\n",
    "plt.show()"
   ]
  },
  {
   "cell_type": "markdown",
   "metadata": {},
   "source": [
    "### Médias parciais de w (taxa de rejeição)"
   ]
  },
  {
   "cell_type": "code",
   "execution_count": 27,
   "metadata": {},
   "outputs": [
    {
     "data": {
      "image/png": "[encoded data removed]",
      "text/plain": [
       "<matplotlib.figure.Figure at 0x7fcd92a3db70>"
      ]
     },
     "metadata": {},
     "output_type": "display_data"
    }
   ],
   "source": [
    "media_parcial = []\n",
    "total_parcial  = 0\n",
    "k = 1\n",
    "while k <= len(iteracoes1):\n",
    "    total_parcial += iteracoes1[k-1]['w']\n",
    "    media_parcial.append(total_parcial/k)\n",
    "    k += 1\n",
    "    \n",
    "plt.plot(media_parcial)\n",
    "plt.show()"
   ]
  },
  {
   "cell_type": "markdown",
   "metadata": {},
   "source": [
    "Com menor número de guichês, a convergência é mais ráṕida."
   ]
  },
  {
   "cell_type": "code",
   "execution_count": 29,
   "metadata": {},
   "outputs": [
    {
     "data": {
      "image/png": "[encoded data removed]",
      "text/plain": [
       "<matplotlib.figure.Figure at 0x7fcd92a64780>"
      ]
     },
     "metadata": {},
     "output_type": "display_data"
    }
   ],
   "source": [
    "media_parcial = []\n",
    "total_parcial  = 0\n",
    "k = 1\n",
    "while k <= len(iteracoes2):\n",
    "    total_parcial += iteracoes2[k-1]['w']\n",
    "    media_parcial.append(total_parcial/k)\n",
    "    k += 1\n",
    "\n",
    "plt.plot(media_parcial)\n",
    "plt.show()"
   ]
  },
  {
   "cell_type": "markdown",
   "metadata": {},
   "source": [
    "### Médias parciais de tm (tempo máximo de permanência)"
   ]
  },
  {
   "cell_type": "code",
   "execution_count": 15,
   "metadata": {},
   "outputs": [
    {
     "data": {
      "image/png": "[encoded data removed]",
      "text/plain": [
       "<matplotlib.figure.Figure at 0x7fcd92969cf8>"
      ]
     },
     "metadata": {},
     "output_type": "display_data"
    }
   ],
   "source": [
    "media_parcial = []\n",
    "total_parcial  = 0\n",
    "k = 1\n",
    "while k <= len(iteracoes1):\n",
    "    total_parcial += iteracoes1[k-1]['tm']\n",
    "    media_parcial.append(total_parcial/k)\n",
    "    k += 1\n",
    "\n",
    "    \n",
    "plt.plot(media_parcial)\n",
    "plt.show()"
   ]
  },
  {
   "cell_type": "markdown",
   "metadata": {},
   "source": [
    "Com menos guichês, a convergência da média é alcançada mais rapidamente."
   ]
  },
  {
   "cell_type": "code",
   "execution_count": 16,
   "metadata": {},
   "outputs": [
    {
     "data": {
      "image/png": "[encoded data removed]",
      "text/plain": [
       "<matplotlib.figure.Figure at 0x7fcd92a5d470>"
      ]
     },
     "metadata": {},
     "output_type": "display_data"
    }
   ],
   "source": [
    "media_parcial = []\n",
    "total_parcial  = 0\n",
    "k = 1\n",
    "while k <= len(iteracoes2):\n",
    "    total_parcial += iteracoes2[k-1]['tm']\n",
    "    media_parcial.append(total_parcial/k)\n",
    "    k += 1\n",
    "\n",
    "    \n",
    "plt.plot(media_parcial)\n",
    "plt.show()"
   ]
  },
  {
   "cell_type": "markdown",
   "metadata": {},
   "source": [
    "# Análises numéricas das simulações"
   ]
  },
  {
   "cell_type": "markdown",
   "metadata": {},
   "source": [
    "### Médias finais de variáveis relevantes"
   ]
  },
  {
   "cell_type": "markdown",
   "metadata": {},
   "source": [
    "Média final de x com 6 guichês"
   ]
  },
  {
   "cell_type": "code",
   "execution_count": 17,
   "metadata": {},
   "outputs": [
    {
     "data": {
      "text/plain": [
       "135.06665"
      ]
     },
     "execution_count": 17,
     "metadata": {},
     "output_type": "execute_result"
    }
   ],
   "source": [
    "sum([i['x'] for i in iteracoes1])/len(iteracoes1)"
   ]
  },
  {
   "cell_type": "markdown",
   "metadata": {},
   "source": [
    "Média final de x com 5 guichês"
   ]
  },
  {
   "cell_type": "code",
   "execution_count": 18,
   "metadata": {},
   "outputs": [
    {
     "data": {
      "text/plain": [
       "120.9132"
      ]
     },
     "execution_count": 18,
     "metadata": {},
     "output_type": "execute_result"
    }
   ],
   "source": [
    "sum([i['x'] for i in iteracoes2])/len(iteracoes2)"
   ]
  },
  {
   "cell_type": "markdown",
   "metadata": {},
   "source": [
    "Média final de y com 6 guichês"
   ]
  },
  {
   "cell_type": "code",
   "execution_count": 19,
   "metadata": {},
   "outputs": [
    {
     "data": {
      "text/plain": [
       "13.9178"
      ]
     },
     "execution_count": 19,
     "metadata": {},
     "output_type": "execute_result"
    }
   ],
   "source": [
    "sum([i['y'] for i in iteracoes1])/len(iteracoes1)"
   ]
  },
  {
   "cell_type": "markdown",
   "metadata": {},
   "source": [
    "Média final de y com 5 guichês"
   ]
  },
  {
   "cell_type": "code",
   "execution_count": 20,
   "metadata": {},
   "outputs": [
    {
     "data": {
      "text/plain": [
       "27.09925"
      ]
     },
     "execution_count": 20,
     "metadata": {},
     "output_type": "execute_result"
    }
   ],
   "source": [
    "sum([i['y'] for i in iteracoes2])/len(iteracoes2)"
   ]
  },
  {
   "cell_type": "markdown",
   "metadata": {},
   "source": [
    "Média final de r com 6 guichês"
   ]
  },
  {
   "cell_type": "code",
   "execution_count": 21,
   "metadata": {},
   "outputs": [
    {
     "data": {
      "text/plain": [
       "0.947"
      ]
     },
     "execution_count": 21,
     "metadata": {},
     "output_type": "execute_result"
    }
   ],
   "source": [
    "sum([i['r'] for i in iteracoes1])/len(iteracoes1)"
   ]
  },
  {
   "cell_type": "markdown",
   "metadata": {},
   "source": [
    "Média final de r com 5 guichês"
   ]
  },
  {
   "cell_type": "code",
   "execution_count": 22,
   "metadata": {},
   "outputs": [
    {
     "data": {
      "text/plain": [
       "1.99475"
      ]
     },
     "execution_count": 22,
     "metadata": {},
     "output_type": "execute_result"
    }
   ],
   "source": [
    "sum([i['r'] for i in iteracoes2])/len(iteracoes2)"
   ]
  },
  {
   "cell_type": "markdown",
   "metadata": {},
   "source": [
    "Média final de w com 6 guichês"
   ]
  },
  {
   "cell_type": "code",
   "execution_count": 23,
   "metadata": {},
   "outputs": [
    {
     "data": {
      "text/plain": [
       "0.09068366104481922"
      ]
     },
     "execution_count": 23,
     "metadata": {},
     "output_type": "execute_result"
    }
   ],
   "source": [
    "sum([i['w'] for i in iteracoes1])/len(iteracoes1)"
   ]
  },
  {
   "cell_type": "markdown",
   "metadata": {},
   "source": [
    "Média final de w com 5 guichês"
   ]
  },
  {
   "cell_type": "code",
   "execution_count": 24,
   "metadata": {},
   "outputs": [
    {
     "data": {
      "text/plain": [
       "0.17711888932153116"
      ]
     },
     "execution_count": 24,
     "metadata": {},
     "output_type": "execute_result"
    }
   ],
   "source": [
    "sum([i['w'] for i in iteracoes2])/len(iteracoes2)"
   ]
  },
  {
   "cell_type": "markdown",
   "metadata": {},
   "source": [
    "Média final de tm com 6 guichês"
   ]
  },
  {
   "cell_type": "code",
   "execution_count": 25,
   "metadata": {},
   "outputs": [
    {
     "data": {
      "text/plain": [
       "13.349392100662653"
      ]
     },
     "execution_count": 25,
     "metadata": {},
     "output_type": "execute_result"
    }
   ],
   "source": [
    "sum([i['tm'] for i in iteracoes1])/len(iteracoes1)"
   ]
  },
  {
   "cell_type": "markdown",
   "metadata": {},
   "source": [
    "Média final de tm com 5 guichês"
   ]
  },
  {
   "cell_type": "code",
   "execution_count": 26,
   "metadata": {},
   "outputs": [
    {
     "data": {
      "text/plain": [
       "16.74218711829892"
      ]
     },
     "execution_count": 26,
     "metadata": {},
     "output_type": "execute_result"
    }
   ],
   "source": [
    "sum([i['tm'] for i in iteracoes2])/len(iteracoes2)"
   ]
  },
  {
   "cell_type": "markdown",
   "metadata": {},
   "source": [
    "### Probabilidade de o tempo máximo ser maior do que 15\n",
    "Naturalmente, esse valor varia de acordo com o número de guichês."
   ]
  },
  {
   "cell_type": "markdown",
   "metadata": {},
   "source": [
    "Para 6 guichês, temos uma probabilidade relativamente baixa:"
   ]
  },
  {
   "cell_type": "code",
   "execution_count": 33,
   "metadata": {},
   "outputs": [
    {
     "data": {
      "text/plain": [
       "0.2742"
      ]
     },
     "execution_count": 33,
     "metadata": {},
     "output_type": "execute_result"
    }
   ],
   "source": [
    "len([i for i in iteracoes1 if i['tm'] > 15])/len(iteracoes1)"
   ]
  },
  {
   "cell_type": "markdown",
   "metadata": {},
   "source": [
    "Para 5 guichês, por outro lado, a chance de o tempo máximo passar de 15 fica muito maior:"
   ]
  },
  {
   "cell_type": "code",
   "execution_count": 34,
   "metadata": {},
   "outputs": [
    {
     "data": {
      "text/plain": [
       "0.6292"
      ]
     },
     "execution_count": 34,
     "metadata": {},
     "output_type": "execute_result"
    }
   ],
   "source": [
    "len([i for i in iteracoes2 if i['tm'] > 15])/len(iteracoes2)"
   ]
  },
  {
   "cell_type": "markdown",
   "metadata": {},
   "source": [
    "# Cálculo de probabilidade de `w <= 0.2`\n",
    "###  Quantos guichês são necessários para chegar ter-se w menor ou igual a 20% com 95% de confiabilidade?"
   ]
  },
  {
   "cell_type": "markdown",
   "metadata": {},
   "source": [
    "Para chegar a esse resultado, serão realizados uma série de simulações com números de guichês entre 1 e 10. Em seguida, serão calculadas as taxas de rejeição de cada simulação em para cada cenário."
   ]
  },
  {
   "cell_type": "code",
   "execution_count": 18,
   "metadata": {},
   "outputs": [
    {
     "name": "stdout",
     "output_type": "stream",
     "text": [
      "Número de guichês satisfatório: 8\n",
      "Número de guichês satisfatório: 9\n",
      "Número de guichês satisfatório: 10\n"
     ]
    }
   ],
   "source": [
    "lamb = 4  # taxa de entrada de clientes\n",
    "mi = .5  # taxa de atendimentos a clientes por cada guichê\n",
    "t = 60  # intervalo de tempo total sobre o qual se deseja calcular as médias de aceitações e rejeições\n",
    "rodadas = 2000  # número de iterações da simulação\n",
    "\n",
    "for nProposto in range(1, 11):\n",
    "    \n",
    "    n = nProposto\n",
    "    iteracoes = []\n",
    "    for i in range(rodadas):\n",
    "        iteracoes.append(rodada())\n",
    "\n",
    "    # Descubra se as condições do problema foram satisfeitas com o nProposto atual\n",
    "    if len([i for i in iteracoes if i['w'] <= 0.2])/len(iteracoes) >= 0.95:\n",
    "        print(\"Número de guichês satisfatório: \" + str(n))"
   ]
  },
  {
   "cell_type": "markdown",
   "metadata": {},
   "source": [
    "Com os resultados acima, fica claro que para termos uma taxa de rejeição menor do que 20% com 95% de confiabilidade, são necessários pelo menos 8 guichês de atendimento."
   ]
  }
 ],
 "metadata": {
  "kernelspec": {
   "display_name": "Python 3",
   "language": "python",
   "name": "python3"
  },
  "language_info": {
   "codemirror_mode": {
    "name": "ipython",
    "version": 3
   },
   "file_extension": ".py",
   "mimetype": "text/x-python",
   "name": "python",
   "nbconvert_exporter": "python",
   "pygments_lexer": "ipython3",
   "version": "3.6.1"
  }
 },
 "nbformat": 4,
 "nbformat_minor": 2
}
